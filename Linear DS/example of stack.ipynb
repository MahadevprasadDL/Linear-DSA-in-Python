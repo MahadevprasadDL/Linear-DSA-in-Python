{
 "cells": [
  {
   "cell_type": "code",
   "execution_count": 1,
   "metadata": {},
   "outputs": [
    {
     "name": "stdout",
     "output_type": "stream",
     "text": [
      "['Mahadev', 'Prasad', 'Girish', 'Manjula', 'Lokesh']\n"
     ]
    }
   ],
   "source": [
    "stack_student = []\n",
    "stack_student.append(\"Mahadev\")   # adding the element to the list\n",
    "stack_student.append(\"Prasad\")\n",
    "stack_student.append(\"Girish\")\n",
    "stack_student.append(\"Manjula\")\n",
    "stack_student.append(\"Lokesh\")\n",
    "print(stack_student)\n"
   ]
  },
  {
   "cell_type": "code",
   "execution_count": 4,
   "metadata": {},
   "outputs": [
    {
     "name": "stdout",
     "output_type": "stream",
     "text": [
      "Lokesh\n"
     ]
    }
   ],
   "source": [
    "print(stack_student.pop())     # delete the element in the list"
   ]
  },
  {
   "cell_type": "code",
   "execution_count": 5,
   "metadata": {},
   "outputs": [
    {
     "name": "stdout",
     "output_type": "stream",
     "text": [
      "['Mahadev', 'Prasad', 'Girish', 'Manjula']\n"
     ]
    }
   ],
   "source": [
    "print(stack_student)       # view the list"
   ]
  },
  {
   "cell_type": "code",
   "execution_count": 8,
   "metadata": {},
   "outputs": [
    {
     "name": "stdout",
     "output_type": "stream",
     "text": [
      "['Mahadev', 'Prasad', 'Girish', 'Manjula', 'Pavi', 'Pavi', 'Pavi']\n"
     ]
    }
   ],
   "source": [
    "stack_student.append(\"Pavi\")\n",
    "print(stack_student)"
   ]
  },
  {
   "cell_type": "code",
   "execution_count": 9,
   "metadata": {},
   "outputs": [
    {
     "name": "stdout",
     "output_type": "stream",
     "text": [
      "Pavi\n"
     ]
    }
   ],
   "source": [
    "print(stack_student[-1])     # top the list"
   ]
  },
  {
   "cell_type": "code",
   "execution_count": 11,
   "metadata": {},
   "outputs": [
    {
     "name": "stdout",
     "output_type": "stream",
     "text": [
      "7\n",
      "['Mahadev', 'Prasad', 'Girish', 'Manjula', 'Pavi', 'Pavi', 'Pavi']\n"
     ]
    }
   ],
   "source": [
    "print(len(stack_student))\n",
    "print(stack_student)"
   ]
  }
 ],
 "metadata": {
  "kernelspec": {
   "display_name": "Python 3",
   "language": "python",
   "name": "python3"
  },
  "language_info": {
   "codemirror_mode": {
    "name": "ipython",
    "version": 3
   },
   "file_extension": ".py",
   "mimetype": "text/x-python",
   "name": "python",
   "nbconvert_exporter": "python",
   "pygments_lexer": "ipython3",
   "version": "3.12.4"
  }
 },
 "nbformat": 4,
 "nbformat_minor": 2
}
