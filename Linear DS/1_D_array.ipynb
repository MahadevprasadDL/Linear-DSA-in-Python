{
 "cells": [
  {
   "cell_type": "code",
   "execution_count": 1,
   "metadata": {},
   "outputs": [
    {
     "data": {
      "text/plain": [
       "1"
      ]
     },
     "execution_count": 1,
     "metadata": {},
     "output_type": "execute_result"
    }
   ],
   "source": [
    "1"
   ]
  },
  {
   "cell_type": "markdown",
   "metadata": {},
   "source": [
    "# One Dimensional Array\n"
   ]
  },
  {
   "cell_type": "code",
   "execution_count": 1,
   "metadata": {},
   "outputs": [
    {
     "name": "stdout",
     "output_type": "stream",
     "text": [
      "How many elements do you want to store?:\n",
      "Enter 6 elements:\n",
      "\n",
      "The array is:\n",
      "10 20 30 40 50 60 "
     ]
    }
   ],
   "source": [
    "print(\"How many elements do you want to store?:\", end=\"\")\n",
    "size = int(input())\n",
    "array = []                                                       # declaration of array\n",
    "print(\"\\nEnter\", size, \"elements:\\n\")\n",
    "for i in range(size):\n",
    "    element = int(input())\n",
    "    array.append(element)\n",
    "\n",
    "print(\"The array is:\")\n",
    "for i in range(size):\n",
    "    print(array[i], end=\" \") \n",
    "\n"
   ]
  }
 ],
 "metadata": {
  "kernelspec": {
   "display_name": "Python 3",
   "language": "python",
   "name": "python3"
  },
  "language_info": {
   "codemirror_mode": {
    "name": "ipython",
    "version": 3
   },
   "file_extension": ".py",
   "mimetype": "text/x-python",
   "name": "python",
   "nbconvert_exporter": "python",
   "pygments_lexer": "ipython3",
   "version": "3.12.4"
  }
 },
 "nbformat": 4,
 "nbformat_minor": 2
}
